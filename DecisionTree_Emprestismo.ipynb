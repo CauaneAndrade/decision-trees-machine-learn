{
 "cells": [
  {
   "cell_type": "markdown",
   "metadata": {},
   "source": [
    "# Decision Tree"
   ]
  },
  {
   "cell_type": "markdown",
   "metadata": {},
   "source": [
    "### Importação de Bibliotecas"
   ]
  },
  {
   "cell_type": "code",
   "execution_count": 225,
   "metadata": {},
   "outputs": [],
   "source": [
    "import pandas as pd\n",
    "from sklearn.tree import DecisionTreeClassifier\n",
    "from sklearn import tree\n",
    "from matplotlib import pyplot as plt\n",
    "from sklearn import metrics\n",
    "%matplotlib inline"
   ]
  },
  {
   "cell_type": "markdown",
   "metadata": {},
   "source": [
    "### Leitura de Arquivo CSV - atenção ao separador \";\""
   ]
  },
  {
   "cell_type": "code",
   "execution_count": 226,
   "metadata": {},
   "outputs": [
    {
     "data": {
      "text/html": [
       "<div>\n",
       "<style scoped>\n",
       "    .dataframe tbody tr th:only-of-type {\n",
       "        vertical-align: middle;\n",
       "    }\n",
       "\n",
       "    .dataframe tbody tr th {\n",
       "        vertical-align: top;\n",
       "    }\n",
       "\n",
       "    .dataframe thead th {\n",
       "        text-align: right;\n",
       "    }\n",
       "</style>\n",
       "<table border=\"1\" class=\"dataframe\">\n",
       "  <thead>\n",
       "    <tr style=\"text-align: right;\">\n",
       "      <th></th>\n",
       "      <th>montante</th>\n",
       "      <th>idade</th>\n",
       "      <th>salario</th>\n",
       "      <th>tem_conta</th>\n",
       "      <th>empresta</th>\n",
       "    </tr>\n",
       "  </thead>\n",
       "  <tbody>\n",
       "    <tr>\n",
       "      <th>0</th>\n",
       "      <td>Medio</td>\n",
       "      <td>Senior</td>\n",
       "      <td>Baixo</td>\n",
       "      <td>Sim</td>\n",
       "      <td>Nao</td>\n",
       "    </tr>\n",
       "    <tr>\n",
       "      <th>1</th>\n",
       "      <td>Medio</td>\n",
       "      <td>Senior</td>\n",
       "      <td>Baixo</td>\n",
       "      <td>Nao</td>\n",
       "      <td>Nao</td>\n",
       "    </tr>\n",
       "    <tr>\n",
       "      <th>2</th>\n",
       "      <td>Baixo</td>\n",
       "      <td>Senior</td>\n",
       "      <td>Baixo</td>\n",
       "      <td>Sim</td>\n",
       "      <td>Sim</td>\n",
       "    </tr>\n",
       "    <tr>\n",
       "      <th>3</th>\n",
       "      <td>Alto</td>\n",
       "      <td>Media</td>\n",
       "      <td>Baixo</td>\n",
       "      <td>Sim</td>\n",
       "      <td>Sim</td>\n",
       "    </tr>\n",
       "    <tr>\n",
       "      <th>4</th>\n",
       "      <td>Alto</td>\n",
       "      <td>Jovem</td>\n",
       "      <td>Alto</td>\n",
       "      <td>Sim</td>\n",
       "      <td>Sim</td>\n",
       "    </tr>\n",
       "    <tr>\n",
       "      <th>5</th>\n",
       "      <td>Alto</td>\n",
       "      <td>Jovem</td>\n",
       "      <td>Alto</td>\n",
       "      <td>Nao</td>\n",
       "      <td>Nao</td>\n",
       "    </tr>\n",
       "    <tr>\n",
       "      <th>6</th>\n",
       "      <td>Baixo</td>\n",
       "      <td>Jovem</td>\n",
       "      <td>Alto</td>\n",
       "      <td>Nao</td>\n",
       "      <td>Sim</td>\n",
       "    </tr>\n",
       "    <tr>\n",
       "      <th>7</th>\n",
       "      <td>Medio</td>\n",
       "      <td>Media</td>\n",
       "      <td>Baixo</td>\n",
       "      <td>Sim</td>\n",
       "      <td>Nao</td>\n",
       "    </tr>\n",
       "    <tr>\n",
       "      <th>8</th>\n",
       "      <td>Medio</td>\n",
       "      <td>Jovem</td>\n",
       "      <td>Alto</td>\n",
       "      <td>Sim</td>\n",
       "      <td>Sim</td>\n",
       "    </tr>\n",
       "    <tr>\n",
       "      <th>9</th>\n",
       "      <td>Alto</td>\n",
       "      <td>Media</td>\n",
       "      <td>Alto</td>\n",
       "      <td>Sim</td>\n",
       "      <td>Sim</td>\n",
       "    </tr>\n",
       "    <tr>\n",
       "      <th>10</th>\n",
       "      <td>Medio</td>\n",
       "      <td>Media</td>\n",
       "      <td>Alto</td>\n",
       "      <td>Nao</td>\n",
       "      <td>Sim</td>\n",
       "    </tr>\n",
       "    <tr>\n",
       "      <th>11</th>\n",
       "      <td>Baixo</td>\n",
       "      <td>Jovem</td>\n",
       "      <td>Baixo</td>\n",
       "      <td>Nao</td>\n",
       "      <td>Sim</td>\n",
       "    </tr>\n",
       "    <tr>\n",
       "      <th>12</th>\n",
       "      <td>Baixo</td>\n",
       "      <td>Senior</td>\n",
       "      <td>Alto</td>\n",
       "      <td>Sim</td>\n",
       "      <td>Sim</td>\n",
       "    </tr>\n",
       "    <tr>\n",
       "      <th>13</th>\n",
       "      <td>Alto</td>\n",
       "      <td>Media</td>\n",
       "      <td>Baixo</td>\n",
       "      <td>Nao</td>\n",
       "      <td>Nao</td>\n",
       "    </tr>\n",
       "  </tbody>\n",
       "</table>\n",
       "</div>"
      ],
      "text/plain": [
       "   montante   idade salario tem_conta empresta\n",
       "0     Medio  Senior   Baixo       Sim      Nao\n",
       "1     Medio  Senior   Baixo       Nao      Nao\n",
       "2     Baixo  Senior   Baixo       Sim      Sim\n",
       "3      Alto   Media   Baixo       Sim      Sim\n",
       "4      Alto   Jovem    Alto       Sim      Sim\n",
       "5      Alto   Jovem    Alto       Nao      Nao\n",
       "6     Baixo   Jovem    Alto       Nao      Sim\n",
       "7     Medio   Media   Baixo       Sim      Nao\n",
       "8     Medio   Jovem    Alto       Sim      Sim\n",
       "9      Alto   Media    Alto       Sim      Sim\n",
       "10    Medio   Media    Alto       Nao      Sim\n",
       "11    Baixo   Jovem   Baixo       Nao      Sim\n",
       "12    Baixo  Senior    Alto       Sim      Sim\n",
       "13     Alto   Media   Baixo       Nao      Nao"
      ]
     },
     "execution_count": 226,
     "metadata": {},
     "output_type": "execute_result"
    }
   ],
   "source": [
    "df = pd.read_csv(\"./emprestimo.csv\",sep=\";\") \n",
    "df # mostra todo o dataset no formato original (dados categóricos)"
   ]
  },
  {
   "cell_type": "code",
   "execution_count": 227,
   "metadata": {},
   "outputs": [
    {
     "name": "stdout",
     "output_type": "stream",
     "text": [
      "   montante   idade salario tem_conta empresta\n",
      "3      Alto   Media   Baixo       Sim      Sim\n",
      "4      Alto   Jovem    Alto       Sim      Sim\n",
      "5      Alto   Jovem    Alto       Nao      Nao\n",
      "9      Alto   Media    Alto       Sim      Sim\n",
      "13     Alto   Media   Baixo       Nao      Nao\n",
      "2     Baixo  Senior   Baixo       Sim      Sim\n",
      "6     Baixo   Jovem    Alto       Nao      Sim\n",
      "11    Baixo   Jovem   Baixo       Nao      Sim\n",
      "12    Baixo  Senior    Alto       Sim      Sim\n",
      "0     Medio  Senior   Baixo       Sim      Nao\n",
      "1     Medio  Senior   Baixo       Nao      Nao\n",
      "7     Medio   Media   Baixo       Sim      Nao\n",
      "8     Medio   Jovem    Alto       Sim      Sim\n",
      "10    Medio   Media    Alto       Nao      Sim\n"
     ]
    }
   ],
   "source": [
    "df = df.sort_values(by=['montante'])\n",
    "print(df)"
   ]
  },
  {
   "cell_type": "code",
   "execution_count": 228,
   "metadata": {},
   "outputs": [
    {
     "name": "stdout",
     "output_type": "stream",
     "text": [
      "montante ['Alto' 'Baixo' 'Medio']\n",
      "idade ['Media' 'Jovem' 'Senior']\n",
      "salario ['Baixo' 'Alto']\n",
      "tem_conta ['Sim' 'Nao']\n",
      "empresta ['Sim' 'Nao']\n"
     ]
    }
   ],
   "source": [
    "for col in df:\n",
    "    print(col, df[col].unique())"
   ]
  },
  {
   "cell_type": "markdown",
   "metadata": {},
   "source": [
    "### Transformação dos dados categóricos para numéricos (features), com exceção à classe (target)"
   ]
  },
  {
   "cell_type": "code",
   "execution_count": 229,
   "metadata": {},
   "outputs": [
    {
     "name": "stdout",
     "output_type": "stream",
     "text": [
      "<class 'pandas.core.frame.DataFrame'>\n",
      "Int64Index: 14 entries, 3 to 10\n",
      "Data columns (total 5 columns):\n",
      " #   Column     Non-Null Count  Dtype\n",
      "---  ------     --------------  -----\n",
      " 0   montante   14 non-null     int64\n",
      " 1   idade      14 non-null     int64\n",
      " 2   salario    14 non-null     int64\n",
      " 3   tem_conta  14 non-null     int64\n",
      " 4   empresta   14 non-null     bool \n",
      "dtypes: bool(1), int64(4)\n",
      "memory usage: 574.0 bytes\n"
     ]
    }
   ],
   "source": [
    "translate = {\n",
    "    'montante': { 'Medio': 2, 'Baixo': 1, 'Alto': 3 },\n",
    "    'idade': { 'Senior': 3, 'Media': 2, 'Jovem': 1 },\n",
    "    'salario': { 'Baixo': 0, 'Alto': 1 },\n",
    "    'tem_conta': { 'Sim': 1, 'Nao': 0 },\n",
    "    'empresta': { 'Nao': False, 'Sim': True }\n",
    "}\n",
    "\n",
    "translate\n",
    "\n",
    "for col in df:\n",
    "    df[col] = df[col].apply(lambda k: translate[col][k])\n",
    "df.info() # mostra informações básicas do dataset como quais colunas (e seus tipos) e uso de memória"
   ]
  },
  {
   "cell_type": "markdown",
   "metadata": {},
   "source": [
    "Mudança nos valores de string para int, para melhorar performance. E váriavel target para boolean"
   ]
  },
  {
   "cell_type": "markdown",
   "metadata": {},
   "source": [
    "### Treinamento do Modelo"
   ]
  },
  {
   "cell_type": "code",
   "execution_count": 230,
   "metadata": {},
   "outputs": [
    {
     "data": {
      "text/plain": [
       "'dataset size: 14 train size: 7 test size: 7'"
      ]
     },
     "execution_count": 230,
     "metadata": {},
     "output_type": "execute_result"
    }
   ],
   "source": [
    "from sklearn.model_selection import train_test_split\n",
    "\n",
    "train, test = train_test_split(df, test_size=0.50, random_state=75) # 33% para Testes\n",
    "train.reset_index(inplace=True)\n",
    "test.reset_index(inplace=True)\n",
    "f\"dataset size: {len(df)} train size: {len(train)} test size: {len(test)}\""
   ]
  },
  {
   "cell_type": "code",
   "execution_count": 231,
   "metadata": {},
   "outputs": [
    {
     "data": {
      "text/plain": [
       "'dataset size: 14 train size: 7 test size: 7'"
      ]
     },
     "execution_count": 231,
     "metadata": {},
     "output_type": "execute_result"
    }
   ],
   "source": [
    "from sklearn.model_selection import train_test_split\n",
    "\n",
    "train, test = train_test_split(df, test_size=0.50, random_state=75) # 33% para Testes\n",
    "train.reset_index(inplace=True)\n",
    "test.reset_index(inplace=True)\n",
    "f\"dataset size: {len(df)} train size: {len(train)} test size: {len(test)}\""
   ]
  },
  {
   "cell_type": "markdown",
   "metadata": {},
   "source": [
    "Separando dados de teste e treino, considerando 33% no tamanho do teste (valor do *test_size*).\n",
    "Assim, temos o tamanho do dataset total, do dataset de teste e de treinamento."
   ]
  },
  {
   "cell_type": "code",
   "execution_count": 232,
   "metadata": {},
   "outputs": [],
   "source": [
    "def data_target_split(df: pd.DataFrame):\n",
    "    target = df[\"empresta\"] # separa a coluna target (colunas com os dados das classes) => Y\n",
    "    data = df.loc[:, ('montante', 'salario', 'tem_conta')] # separa as colunas de features (colunas com os dados das features) => X\n",
    "    return data, target\n",
    "\n",
    "train_x, train_y = data_target_split(train)\n",
    "test_x, test_y = data_target_split(test)"
   ]
  },
  {
   "cell_type": "markdown",
   "metadata": {},
   "source": [
    "Escolhido o target *empresta* pois este tem o maior potencial para definir se haverá o empréstimo ou não.\n",
    "\n",
    "Também foi escolhido os atributos *salario*, *montante* e *tem_conta* a partir da analise do dataset. Pois representam os atributos com maior potencial de classificar um empréstimo ou não."
   ]
  },
  {
   "cell_type": "code",
   "execution_count": 233,
   "metadata": {},
   "outputs": [],
   "source": [
    "from dataclasses import dataclass\n",
    "\n",
    "@dataclass(frozen=True)\n",
    "class ModelResult:\n",
    "    n: int\n",
    "    clf: DecisionTreeClassifier\n",
    "    acc: float"
   ]
  },
  {
   "cell_type": "code",
   "execution_count": 234,
   "metadata": {},
   "outputs": [
    {
     "name": "stdout",
     "output_type": "stream",
     "text": [
      "(1, 0.42857142857142855) (2, 0.5714285714285714) (3, 0.5714285714285714) (4, 0.5714285714285714) (5, 0.5714285714285714) (6, 0.5714285714285714) (7, 0.5714285714285714) (8, 0.5714285714285714) (9, 0.5714285714285714)\n"
     ]
    }
   ],
   "source": [
    "def tree_model(max_depth: int):\n",
    "    # constrói o modelo usando critério “Entropia” e max_depth variável\n",
    "    clf = DecisionTreeClassifier(max_depth=max_depth, criterion='gini', random_state=42) \n",
    "    # treina o modelo – observe que nessa abordagem está usando 50% para testes\n",
    "    clf.fit(train_x, train_y)\n",
    "\n",
    "    # aplica o modelo e mede acurácia\n",
    "    pred_y = clf.predict(test_x)\n",
    "    acc = metrics.accuracy_score(test_y, pred_y)\n",
    "    return ModelResult(acc=acc, clf=clf, n=max_depth)\n",
    "\n",
    "# mostra resultados de acurácil para cada modelo gerado por tree_model\n",
    "results = {n: tree_model(n) for n in range(1, 10)}\n",
    "print(*[(n, r.acc) for n, r in results.items()])"
   ]
  },
  {
   "cell_type": "markdown",
   "metadata": {},
   "source": [
    "Treina o modelo usando 33% para testes. Após aplica o modelo e mede a acurácia.\n",
    "Na exibição do resultado "
   ]
  },
  {
   "cell_type": "markdown",
   "metadata": {},
   "source": [
    "### Apresentação dos Resultados"
   ]
  },
  {
   "cell_type": "code",
   "execution_count": 235,
   "metadata": {},
   "outputs": [
    {
     "name": "stdout",
     "output_type": "stream",
     "text": [
      "Index(['montante', 'salario', 'tem_conta'], dtype='object') ['False' 'True']\n"
     ]
    },
    {
     "data": {
      "text/plain": [
       "[Text(0.5, 0.75, 'tem_conta <= 0.5\\ngini = 0.245\\nsamples = 7\\nvalue = [1, 6]\\nclass = True'),\n",
       " Text(0.25, 0.25, 'gini = 0.5\\nsamples = 2\\nvalue = [1, 1]\\nclass = False'),\n",
       " Text(0.75, 0.25, 'gini = 0.0\\nsamples = 5\\nvalue = [0, 5]\\nclass = True')]"
      ]
     },
     "execution_count": 235,
     "metadata": {},
     "output_type": "execute_result"
    },
    {
     "data": {
      "image/png": "[encoded data removed]",
      "text/plain": [
       "<Figure size 432x288 with 1 Axes>"
      ]
     },
     "metadata": {
      "needs_background": "light"
     },
     "output_type": "display_data"
    }
   ],
   "source": [
    "# Plotagem da árvore\n",
    "clf = results[1].clf\n",
    "f_names = test_x.columns\n",
    "c_names = test_y.unique().astype(str)\n",
    "print(f_names, c_names)\n",
    "tree.plot_tree(clf, feature_names=f_names,class_names=c_names, filled=True)"
   ]
  },
  {
   "cell_type": "code",
   "execution_count": 236,
   "metadata": {},
   "outputs": [
    {
     "data": {
      "image/png": "[encoded data removed]",
      "text/plain": [
       "<Figure size 432x288 with 2 Axes>"
      ]
     },
     "metadata": {
      "needs_background": "light"
     },
     "output_type": "display_data"
    }
   ],
   "source": [
    "# Matriz de confusão\n",
    "from sklearn.metrics import confusion_matrix, ConfusionMatrixDisplay\n",
    "predictions = clf.predict(test_x);\n",
    "cm = confusion_matrix(test_y, predictions, labels=clf.classes_)\n",
    "disp = ConfusionMatrixDisplay(confusion_matrix=cm,display_labels=clf.classes_)\n",
    "disp.plot()\n",
    "plt.show()"
   ]
  },
  {
   "cell_type": "code",
   "execution_count": 237,
   "metadata": {},
   "outputs": [
    {
     "data": {
      "text/plain": [
       "array([ True])"
      ]
     },
     "execution_count": 237,
     "metadata": {},
     "output_type": "execute_result"
    }
   ],
   "source": [
    "# Testando para uma entrada específica:\n",
    "W_test = pd.DataFrame({'montante': [1], 'salario': [3], 'tem_conta': [1],})\n",
    "y_pred = clf.predict(W_test)\n",
    "y_pred"
   ]
  }
 ],
 "metadata": {
  "interpreter": {
   "hash": "94ac249baff044f4f7fed3bbfaad013cbcd7563c958e71c1a4ebf99f20509e28"
  },
  "kernelspec": {
   "display_name": "Python 3.7.7 32-bit",
   "language": "python",
   "name": "python3"
  },
  "language_info": {
   "codemirror_mode": {
    "name": "ipython",
    "version": 3
   },
   "file_extension": ".py",
   "mimetype": "text/x-python",
   "name": "python",
   "nbconvert_exporter": "python",
   "pygments_lexer": "ipython3",
   "version": "3.8.10"
  },
  "orig_nbformat": 4
 },
 "nbformat": 4,
 "nbformat_minor": 2
}
